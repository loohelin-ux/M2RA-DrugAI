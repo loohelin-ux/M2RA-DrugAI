{
 "cells":
  },
  {
   "cell_type": "code",
   "execution_count": 1,
   "metadata": {},
   "outputs":,
   "source":
  },
  {
   "cell_type": "code",
   "execution_count": 2,
   "metadata": {},
   "outputs": [
    {
     "name": "stdout",
     "output_type": "stream",
     "text": [
      "Libraries imported successfully.\n"
     ]
    }
   ],
   "source":
  },
  {
   "cell_type": "markdown",
   "metadata": {},
   "source":
  },
  {
   "cell_type": "code",
   "execution_count": 3,
   "metadata": {},
   "outputs":,
      "text/plain":
     },
     "execution_count": 3,
     "metadata": {},
     "output_type": "execute_result"
    }
   ],
   "source":,\n",
    "    'solvent':,\n",
    "    'yield': [0.54, 0.68, 0.81, 0.75, 0.45],\n",
    "    'product_ic50_uM': [5.2, 3.1, 0.95, 1.5, 2.2]\n",
    "}\n",
    "df = pd.DataFrame(data)\n",
    "df.head()"
   ]
  },
  {
   "cell_type": "markdown",
   "metadata": {},
   "source":
  },
  {
   "cell_type": "code",
   "execution_count": 4,
   "metadata": {},
   "outputs":,
      "text/plain":
     },
     "execution_count": 4,
     "metadata": {},
     "output_type": "execute_result"
    }
   ],
   "source":]\n",
    "df =\n",
    "df['LogP'] =\n",
    "df =\n",
    "\n",
    "df].describe()"
   ]
  },
  {
   "cell_type": "markdown",
   "metadata": {},
   "source":
  },
  {
   "cell_type": "code",
   "execution_count": 5,
   "metadata": {},
   "outputs":
     },
     "metadata": {},
     "output_type": "display_data"
    }
   ],
   "source": [
    "sns.set_style(\"whitegrid\")\n",
    "fig, axes = plt.subplots(1, 2, figsize=(12, 5))\n",
    "\n",
    "sns.histplot(df['yield'], kde=True, ax=axes, color='blue')\n",
    "axes.set_title('Distribution of Reaction Yields')\n",
    "axes.set_xlabel('Yield')\n",
    "\n",
    "sns.histplot(df['product_ic50_uM'], kde=True, ax=axes[1], color='red')\n",
    "axes.[1]set_title('Distribution of Product IC50 (uM)')\n",
    "axes.[1]set_xlabel('IC50 (uM)')\n",
    "\n",
    "plt.tight_layout()\n",
    "plt.show()"
   ]
  },
  {
   "cell_type": "markdown",
   "metadata": {},
   "source":
  }
 ],
 "metadata": {
  "kernelspec": {
   "display_name": "Python 3",
   "language": "python",
   "name": "python3"
  },
  "language_info": {
   "codemirror_mode": {
    "name": "ipython",
    "version": 3
   },
   "file_extension": ".py",
   "mimetype": "text/x-python",
   "name": "python",
   "nbconvert_exporter": "python",
   "pygments_lexer": "ipython3",
   "version": "3.9.7"
  }
 },
 "nbformat": 4,
 "nbformat_minor": 4
}
